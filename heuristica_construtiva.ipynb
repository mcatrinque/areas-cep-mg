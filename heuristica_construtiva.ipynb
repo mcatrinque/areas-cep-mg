{
  "nbformat": 4,
  "nbformat_minor": 0,
  "metadata": {
    "colab": {
      "provenance": [],
      "authorship_tag": "ABX9TyN6DAnZbVeErWIEt4E0xKJE",
      "include_colab_link": true
    },
    "kernelspec": {
      "name": "python3",
      "display_name": "Python 3"
    },
    "language_info": {
      "name": "python"
    }
  },
  "cells": [
    {
      "cell_type": "markdown",
      "metadata": {
        "id": "view-in-github",
        "colab_type": "text"
      },
      "source": [
        "<a href=\"https://colab.research.google.com/github/mcatrinque/areas-cep-mg/blob/main/heuristica_construtiva.ipynb\" target=\"_parent\"><img src=\"https://colab.research.google.com/assets/colab-badge.svg\" alt=\"Open In Colab\"/></a>"
      ]
    },
    {
      "cell_type": "markdown",
      "source": [
        "#Heurística Construtiva"
      ],
      "metadata": {
        "id": "1F-Reg-Rgc6t"
      }
    },
    {
      "cell_type": "markdown",
      "source": [
        "## Carrega Bibliotecas"
      ],
      "metadata": {
        "id": "Lm7bFa6Ko3lX"
      }
    },
    {
      "cell_type": "code",
      "execution_count": 1,
      "metadata": {
        "id": "9shvq74_VNIY"
      },
      "outputs": [],
      "source": [
        "import math\n",
        "import time\n",
        "import os\n",
        "\n",
        "import pandas as pd\n",
        "import plotly.express as px\n",
        "import matplotlib.pyplot as plt\n",
        "\n",
        "from google.colab import drive"
      ]
    },
    {
      "cell_type": "markdown",
      "source": [
        "## Carregamento dos Arquivos de Entrada"
      ],
      "metadata": {
        "id": "tJ31z-Obo6PF"
      }
    },
    {
      "cell_type": "code",
      "source": [
        "drive.mount('/content/drive')\n",
        "folder_path = '/content/drive/My Drive/Colab Notebooks/Heuristica/EUC_2D'\n",
        "cities = []"
      ],
      "metadata": {
        "id": "0B36pgf4Vyq5",
        "colab": {
          "base_uri": "https://localhost:8080/"
        },
        "outputId": "1a0f311b-0fca-4776-ecb9-a6418ea4eef9"
      },
      "execution_count": 2,
      "outputs": [
        {
          "output_type": "stream",
          "name": "stdout",
          "text": [
            "Drive already mounted at /content/drive; to attempt to forcibly remount, call drive.mount(\"/content/drive\", force_remount=True).\n"
          ]
        }
      ]
    },
    {
      "cell_type": "markdown",
      "source": [
        "## Funções de Tratamento\n",
        "\n",
        "As instâncias fornecidas podem ser classificadas em dois tipos: aquelas em que a distância entre os pontos segue o modelo euclidiano (EUC_2D) e aquelas em que a distância segue o modelo pseudo-euclidiano (ATT). Consequentemente, o cálculo da distância entre os pontos varia de acordo com o tipo de instância."
      ],
      "metadata": {
        "id": "3Mg14Y07pHnL"
      }
    },
    {
      "cell_type": "markdown",
      "source": [
        "### Distância euclidiana\n",
        "Suponha que as coordenadas de um ponto i sejam representadas por x[i] e y[i]. Ao calcular a distância entre dois pontos i e j para as arestas do tipo EUC_2D (distância euclidiana).\n"
      ],
      "metadata": {
        "id": "jYfVK5a3WNjk"
      }
    },
    {
      "cell_type": "code",
      "source": [
        "def euclidean_distance_2d(src, trg):\n",
        "    xd = src[0] - trg[0]\n",
        "    yd = src[1] - trg[1]\n",
        "    return round(math.sqrt(xd * xd + yd * yd))"
      ],
      "metadata": {
        "id": "Zf4TU7I1V1bT"
      },
      "execution_count": 3,
      "outputs": []
    },
    {
      "cell_type": "markdown",
      "source": [
        "### Distância ATT\n",
        "Se considerarmos x[i] e y[i] como as coordenadas de um ponto i, ao calcular a distância entre dois pontos i e j para as arestas do tipo ATT (distância pseudo euclidiana).\n",
        "\n",
        "\n",
        "\n"
      ],
      "metadata": {
        "id": "fnZrqnhzWUGL"
      }
    },
    {
      "cell_type": "code",
      "source": [
        "def att_distance(src, trg):\n",
        "    xd = src[0] - trg[0]\n",
        "    yd = src[1] - trg[1]\n",
        "    rij = math.sqrt((xd * xd + yd * yd) / 10.0)\n",
        "    tij = round(rij)\n",
        "    if tij < rij:\n",
        "        return tij + 1\n",
        "    else:\n",
        "        return tij"
      ],
      "metadata": {
        "id": "kyvVvhMMV4AV"
      },
      "execution_count": 4,
      "outputs": []
    },
    {
      "cell_type": "markdown",
      "source": [
        "### Distância entre cidades\n",
        "Calcula a distância entre duas cidades com base no tipo de distância"
      ],
      "metadata": {
        "id": "5MD97LL0WfSH"
      }
    },
    {
      "cell_type": "code",
      "source": [
        "def calculate_distance(dist, src, trg):\n",
        "    if dist:\n",
        "        return euclidean_distance_2d(src, trg)\n",
        "    else:\n",
        "        return att_distance(src, trg)"
      ],
      "metadata": {
        "id": "akNWO4b4V7bk"
      },
      "execution_count": 5,
      "outputs": []
    },
    {
      "cell_type": "markdown",
      "source": [
        "### Validação de distância euclidiana\n",
        "Avaliar se o tipo de distância é euclidiana (EUC_2D)\n"
      ],
      "metadata": {
        "id": "wGb04x-HWpz-"
      }
    },
    {
      "cell_type": "code",
      "source": [
        "def is_euclidean_distance(d):\n",
        "    return d == \"EUC_2D\""
      ],
      "metadata": {
        "id": "kI2WfQ8oV9n8"
      },
      "execution_count": 6,
      "outputs": []
    },
    {
      "cell_type": "markdown",
      "source": [
        "## Heurística de Vizinhos mais Próximos\n",
        "A função `nearest_neighbor_algorithm` implementa a heurística do \"Vizinho Mais Próximo\" para resolver o Problema do Caixeiro Viajante (TSP, sigla em inglês). O objetivo do TSP é encontrar o caminho mais curto que visita cada cidade exatamente uma vez e retorna à cidade de origem.\n",
        "\n",
        "A heurística do \"Vizinho Mais Próximo\" é uma abordagem gulosa, onde o algoritmo começa em uma cidade inicial e, a cada passo, seleciona a cidade não visitada mais próxima para visitar em seguida.\n",
        "\n",
        "A heurística funciona da seguinte forma:\n",
        "\n",
        "1. Inicialização:\n",
        "   - Comece a partir de uma cidade inicial (geralmente a primeira cidade na lista de cidades).\n",
        "   - Marque essa cidade como visitada e defina o custo inicial como zero.\n",
        "\n",
        "2. Seleção do próximo vizinho:\n",
        "   - Enquanto não todas as cidades forem visitadas:\n",
        "     - Inicialize a distância auxiliar (`aux_dist`) como infinito.\n",
        "     - Percorra todas as cidades não visitadas (exceto a cidade atual) e calcule a distância entre a cidade atual e as cidades vizinhas.\n",
        "     - Se a distância calculada for menor que a distância auxiliar, atualize a distância auxiliar e registre a cidade vizinha como a candidata a ser visitada em seguida.\n",
        "     - Marque a cidade candidata como visitada.\n",
        "     - Atualize o custo acumulativo.\n",
        "\n",
        "3. Conclusão:\n",
        "   - Depois de visitar todas as cidades, adicione a distância da última cidade visitada de volta à cidade de origem.\n",
        "   - Retorne o custo total da rota encontrada.\n",
        "\n",
        "Esta heurística não garante uma solução ótima, mas é eficaz para encontrar soluções aproximadas em um tempo razoável. A qualidade da solução depende da escolha da cidade inicial e da ordem em que as cidades são visitadas. Em alguns casos, a heurística pode fornecer uma solução próxima da ótima, mas em outros, pode estar longe da solução ideal. A escolha da cidade inicial é um dos fatores críticos para o desempenho da heurística."
      ],
      "metadata": {
        "id": "6gEnR0TtW4c5"
      }
    },
    {
      "cell_type": "code",
      "source": [
        "def nearest_neighbor_algorithm(dist):\n",
        "    cost = 0\n",
        "    n_visited = 0\n",
        "    current_city = 0\n",
        "    visited = [0] * len(cities)\n",
        "    visited[0] = 1\n",
        "    n_visited += 1\n",
        "\n",
        "    while n_visited != len(cities):\n",
        "        aux_dist = float(\"inf\")\n",
        "        for i in range(len(cities)):\n",
        "            if not visited[i] and i != current_city:\n",
        "                cd = calculate_distance(dist, cities[current_city], cities[i])\n",
        "                if aux_dist > cd:\n",
        "                    aux_dist = cd\n",
        "                    candidate_city = i\n",
        "                    aux_cost = cd\n",
        "        visited[candidate_city] += 1\n",
        "        n_visited += 1\n",
        "        cost += aux_cost\n",
        "        current_city = candidate_city\n",
        "\n",
        "    cost += calculate_distance(dist, cities[current_city], cities[0])\n",
        "    return cost"
      ],
      "metadata": {
        "id": "lb111WxRWAea"
      },
      "execution_count": 7,
      "outputs": []
    },
    {
      "cell_type": "markdown",
      "source": [
        "## Análise e Resultados"
      ],
      "metadata": {
        "id": "rw_C1b43peyk"
      }
    },
    {
      "cell_type": "markdown",
      "source": [
        "### Leitura de arquivos de entrada\n",
        "Responsável por extrair informações importantes de um arquivo de entrada relacionado ao TSP.\n",
        "\n",
        "Essa função determina o número de cidades, o tipo de distância (euclidiana ou pseudo euclidiana) e as coordenadas das cidades.\n",
        "\n",
        "Os dados são usados posteriormente no algoritmo de resolução do TSP, que pode ser implementado usando a heurística do Vizinho Mais Próximo.\n",
        "\n",
        "A escolha do algoritmo de resolução e a manipulação dessas informações dependem do contexto em que a função é usada.\n",
        "\n",
        "\n",
        "\n",
        "\n"
      ],
      "metadata": {
        "id": "v79t3_KdXDUY"
      }
    },
    {
      "cell_type": "code",
      "source": [
        "def read_input_content(content):\n",
        "    n_cities = 0\n",
        "    distance = False\n",
        "    lines = content.split('\\n')\n",
        "\n",
        "    for i, line in enumerate(lines):\n",
        "        parts = line.strip().split(\":\")\n",
        "        if parts[0] == \"DIMENSION\":\n",
        "            n_cities = int(parts[1])\n",
        "        elif parts[0] == \"EDGE_WEIGHT_TYPE\":\n",
        "            distance = is_euclidean_distance(parts[1])\n",
        "\n",
        "        if parts[0] == \"NODE_COORD_SECTION\":\n",
        "            break\n",
        "\n",
        "    for line in lines[i+1:]:\n",
        "        if line.strip() == \"EOF\":\n",
        "            break\n",
        "        parts = line.strip().split()\n",
        "        if len(parts) >= 3:\n",
        "            index, x_coordinate, y_coordinate = map(float, parts[:3])\n",
        "            cities.append((x_coordinate, y_coordinate))\n",
        "\n",
        "    return n_cities, distance"
      ],
      "metadata": {
        "id": "Dg4TivfWWDkN"
      },
      "execution_count": 8,
      "outputs": []
    },
    {
      "cell_type": "markdown",
      "source": [
        "### Processamento de arquivos em lote\n",
        "Os resultados obtidos a partir da heuristica de vizinhos próximos serão exibidos conforme a leitura das instâncias fornecidas acontece:"
      ],
      "metadata": {
        "id": "AFleEEKKXJ0g"
      }
    },
    {
      "cell_type": "code",
      "source": [
        "def process_tsp_files(folder_path):\n",
        "    start = time.time()\n",
        "    results = []\n",
        "    file_list = os.listdir(folder_path)\n",
        "\n",
        "    for filename in file_list:\n",
        "        if filename.endswith(\".tsp\"):\n",
        "            file_path = os.path.join(folder_path, filename)\n",
        "\n",
        "            with open(file_path, 'r') as infile:\n",
        "                n_cities, distance = read_input_content(infile.read())\n",
        "            cost = nearest_neighbor_algorithm(distance)\n",
        "\n",
        "            result = {\n",
        "                \"Arquivo\": filename,\n",
        "                \"Resultado\": cost\n",
        "            }\n",
        "            results.append(result)\n",
        "\n",
        "    end = time.time()\n",
        "    time_taken = end - start\n",
        "    print(f\"Tempo de execução total: {time_taken} segundos\")\n",
        "\n",
        "    return results\n",
        "\n",
        "df = pd.DataFrame(process_tsp_files(folder_path))\n",
        "df"
      ],
      "metadata": {
        "id": "sASXZnbpWFVz",
        "colab": {
          "base_uri": "https://localhost:8080/",
          "height": 694
        },
        "outputId": "26d4b07a-4573-48cf-c0d0-7cab57da0ddd"
      },
      "execution_count": 9,
      "outputs": [
        {
          "output_type": "stream",
          "name": "stdout",
          "text": [
            "Tempo de execução total: 37.801143407821655 segundos\n"
          ]
        },
        {
          "output_type": "execute_result",
          "data": {
            "text/plain": [
              "         Arquivo  Resultado\n",
              "0    kroD100.tsp       8571\n",
              "1    kroB200.tsp      12871\n",
              "2    kroE100.tsp      15350\n",
              "3      pr152.tsp      42154\n",
              "4      pr144.tsp      52316\n",
              "5      pr124.tsp      63474\n",
              "6    kroA150.tsp      68919\n",
              "7    kroB150.tsp      67327\n",
              "8    kroB100.tsp      67327\n",
              "9      pr136.tsp      86714\n",
              "10   kroA200.tsp      86714\n",
              "11     rat99.tsp      87012\n",
              "12     pr107.tsp      98124\n",
              "13    lin105.tsp      95527\n",
              "14    rat195.tsp     100371\n",
              "15      pr76.tsp     118935\n",
              "16      st70.tsp     119367\n",
              "17   kroC100.tsp     119367\n",
              "18  berlin52.tsp     117742\n",
              "19   kroA100.tsp     117742"
            ],
            "text/html": [
              "\n",
              "  <div id=\"df-1bfd79a2-4544-4654-9f19-3c5268876c74\" class=\"colab-df-container\">\n",
              "    <div>\n",
              "<style scoped>\n",
              "    .dataframe tbody tr th:only-of-type {\n",
              "        vertical-align: middle;\n",
              "    }\n",
              "\n",
              "    .dataframe tbody tr th {\n",
              "        vertical-align: top;\n",
              "    }\n",
              "\n",
              "    .dataframe thead th {\n",
              "        text-align: right;\n",
              "    }\n",
              "</style>\n",
              "<table border=\"1\" class=\"dataframe\">\n",
              "  <thead>\n",
              "    <tr style=\"text-align: right;\">\n",
              "      <th></th>\n",
              "      <th>Arquivo</th>\n",
              "      <th>Resultado</th>\n",
              "    </tr>\n",
              "  </thead>\n",
              "  <tbody>\n",
              "    <tr>\n",
              "      <th>0</th>\n",
              "      <td>kroD100.tsp</td>\n",
              "      <td>8571</td>\n",
              "    </tr>\n",
              "    <tr>\n",
              "      <th>1</th>\n",
              "      <td>kroB200.tsp</td>\n",
              "      <td>12871</td>\n",
              "    </tr>\n",
              "    <tr>\n",
              "      <th>2</th>\n",
              "      <td>kroE100.tsp</td>\n",
              "      <td>15350</td>\n",
              "    </tr>\n",
              "    <tr>\n",
              "      <th>3</th>\n",
              "      <td>pr152.tsp</td>\n",
              "      <td>42154</td>\n",
              "    </tr>\n",
              "    <tr>\n",
              "      <th>4</th>\n",
              "      <td>pr144.tsp</td>\n",
              "      <td>52316</td>\n",
              "    </tr>\n",
              "    <tr>\n",
              "      <th>5</th>\n",
              "      <td>pr124.tsp</td>\n",
              "      <td>63474</td>\n",
              "    </tr>\n",
              "    <tr>\n",
              "      <th>6</th>\n",
              "      <td>kroA150.tsp</td>\n",
              "      <td>68919</td>\n",
              "    </tr>\n",
              "    <tr>\n",
              "      <th>7</th>\n",
              "      <td>kroB150.tsp</td>\n",
              "      <td>67327</td>\n",
              "    </tr>\n",
              "    <tr>\n",
              "      <th>8</th>\n",
              "      <td>kroB100.tsp</td>\n",
              "      <td>67327</td>\n",
              "    </tr>\n",
              "    <tr>\n",
              "      <th>9</th>\n",
              "      <td>pr136.tsp</td>\n",
              "      <td>86714</td>\n",
              "    </tr>\n",
              "    <tr>\n",
              "      <th>10</th>\n",
              "      <td>kroA200.tsp</td>\n",
              "      <td>86714</td>\n",
              "    </tr>\n",
              "    <tr>\n",
              "      <th>11</th>\n",
              "      <td>rat99.tsp</td>\n",
              "      <td>87012</td>\n",
              "    </tr>\n",
              "    <tr>\n",
              "      <th>12</th>\n",
              "      <td>pr107.tsp</td>\n",
              "      <td>98124</td>\n",
              "    </tr>\n",
              "    <tr>\n",
              "      <th>13</th>\n",
              "      <td>lin105.tsp</td>\n",
              "      <td>95527</td>\n",
              "    </tr>\n",
              "    <tr>\n",
              "      <th>14</th>\n",
              "      <td>rat195.tsp</td>\n",
              "      <td>100371</td>\n",
              "    </tr>\n",
              "    <tr>\n",
              "      <th>15</th>\n",
              "      <td>pr76.tsp</td>\n",
              "      <td>118935</td>\n",
              "    </tr>\n",
              "    <tr>\n",
              "      <th>16</th>\n",
              "      <td>st70.tsp</td>\n",
              "      <td>119367</td>\n",
              "    </tr>\n",
              "    <tr>\n",
              "      <th>17</th>\n",
              "      <td>kroC100.tsp</td>\n",
              "      <td>119367</td>\n",
              "    </tr>\n",
              "    <tr>\n",
              "      <th>18</th>\n",
              "      <td>berlin52.tsp</td>\n",
              "      <td>117742</td>\n",
              "    </tr>\n",
              "    <tr>\n",
              "      <th>19</th>\n",
              "      <td>kroA100.tsp</td>\n",
              "      <td>117742</td>\n",
              "    </tr>\n",
              "  </tbody>\n",
              "</table>\n",
              "</div>\n",
              "    <div class=\"colab-df-buttons\">\n",
              "\n",
              "  <div class=\"colab-df-container\">\n",
              "    <button class=\"colab-df-convert\" onclick=\"convertToInteractive('df-1bfd79a2-4544-4654-9f19-3c5268876c74')\"\n",
              "            title=\"Convert this dataframe to an interactive table.\"\n",
              "            style=\"display:none;\">\n",
              "\n",
              "  <svg xmlns=\"http://www.w3.org/2000/svg\" height=\"24px\" viewBox=\"0 -960 960 960\">\n",
              "    <path d=\"M120-120v-720h720v720H120Zm60-500h600v-160H180v160Zm220 220h160v-160H400v160Zm0 220h160v-160H400v160ZM180-400h160v-160H180v160Zm440 0h160v-160H620v160ZM180-180h160v-160H180v160Zm440 0h160v-160H620v160Z\"/>\n",
              "  </svg>\n",
              "    </button>\n",
              "\n",
              "  <style>\n",
              "    .colab-df-container {\n",
              "      display:flex;\n",
              "      gap: 12px;\n",
              "    }\n",
              "\n",
              "    .colab-df-convert {\n",
              "      background-color: #E8F0FE;\n",
              "      border: none;\n",
              "      border-radius: 50%;\n",
              "      cursor: pointer;\n",
              "      display: none;\n",
              "      fill: #1967D2;\n",
              "      height: 32px;\n",
              "      padding: 0 0 0 0;\n",
              "      width: 32px;\n",
              "    }\n",
              "\n",
              "    .colab-df-convert:hover {\n",
              "      background-color: #E2EBFA;\n",
              "      box-shadow: 0px 1px 2px rgba(60, 64, 67, 0.3), 0px 1px 3px 1px rgba(60, 64, 67, 0.15);\n",
              "      fill: #174EA6;\n",
              "    }\n",
              "\n",
              "    .colab-df-buttons div {\n",
              "      margin-bottom: 4px;\n",
              "    }\n",
              "\n",
              "    [theme=dark] .colab-df-convert {\n",
              "      background-color: #3B4455;\n",
              "      fill: #D2E3FC;\n",
              "    }\n",
              "\n",
              "    [theme=dark] .colab-df-convert:hover {\n",
              "      background-color: #434B5C;\n",
              "      box-shadow: 0px 1px 3px 1px rgba(0, 0, 0, 0.15);\n",
              "      filter: drop-shadow(0px 1px 2px rgba(0, 0, 0, 0.3));\n",
              "      fill: #FFFFFF;\n",
              "    }\n",
              "  </style>\n",
              "\n",
              "    <script>\n",
              "      const buttonEl =\n",
              "        document.querySelector('#df-1bfd79a2-4544-4654-9f19-3c5268876c74 button.colab-df-convert');\n",
              "      buttonEl.style.display =\n",
              "        google.colab.kernel.accessAllowed ? 'block' : 'none';\n",
              "\n",
              "      async function convertToInteractive(key) {\n",
              "        const element = document.querySelector('#df-1bfd79a2-4544-4654-9f19-3c5268876c74');\n",
              "        const dataTable =\n",
              "          await google.colab.kernel.invokeFunction('convertToInteractive',\n",
              "                                                    [key], {});\n",
              "        if (!dataTable) return;\n",
              "\n",
              "        const docLinkHtml = 'Like what you see? Visit the ' +\n",
              "          '<a target=\"_blank\" href=https://colab.research.google.com/notebooks/data_table.ipynb>data table notebook</a>'\n",
              "          + ' to learn more about interactive tables.';\n",
              "        element.innerHTML = '';\n",
              "        dataTable['output_type'] = 'display_data';\n",
              "        await google.colab.output.renderOutput(dataTable, element);\n",
              "        const docLink = document.createElement('div');\n",
              "        docLink.innerHTML = docLinkHtml;\n",
              "        element.appendChild(docLink);\n",
              "      }\n",
              "    </script>\n",
              "  </div>\n",
              "\n",
              "\n",
              "<div id=\"df-66d9924a-900e-458d-ae70-4b4261ee3701\">\n",
              "  <button class=\"colab-df-quickchart\" onclick=\"quickchart('df-66d9924a-900e-458d-ae70-4b4261ee3701')\"\n",
              "            title=\"Suggest charts.\"\n",
              "            style=\"display:none;\">\n",
              "\n",
              "<svg xmlns=\"http://www.w3.org/2000/svg\" height=\"24px\"viewBox=\"0 0 24 24\"\n",
              "     width=\"24px\">\n",
              "    <g>\n",
              "        <path d=\"M19 3H5c-1.1 0-2 .9-2 2v14c0 1.1.9 2 2 2h14c1.1 0 2-.9 2-2V5c0-1.1-.9-2-2-2zM9 17H7v-7h2v7zm4 0h-2V7h2v10zm4 0h-2v-4h2v4z\"/>\n",
              "    </g>\n",
              "</svg>\n",
              "  </button>\n",
              "\n",
              "<style>\n",
              "  .colab-df-quickchart {\n",
              "      --bg-color: #E8F0FE;\n",
              "      --fill-color: #1967D2;\n",
              "      --hover-bg-color: #E2EBFA;\n",
              "      --hover-fill-color: #174EA6;\n",
              "      --disabled-fill-color: #AAA;\n",
              "      --disabled-bg-color: #DDD;\n",
              "  }\n",
              "\n",
              "  [theme=dark] .colab-df-quickchart {\n",
              "      --bg-color: #3B4455;\n",
              "      --fill-color: #D2E3FC;\n",
              "      --hover-bg-color: #434B5C;\n",
              "      --hover-fill-color: #FFFFFF;\n",
              "      --disabled-bg-color: #3B4455;\n",
              "      --disabled-fill-color: #666;\n",
              "  }\n",
              "\n",
              "  .colab-df-quickchart {\n",
              "    background-color: var(--bg-color);\n",
              "    border: none;\n",
              "    border-radius: 50%;\n",
              "    cursor: pointer;\n",
              "    display: none;\n",
              "    fill: var(--fill-color);\n",
              "    height: 32px;\n",
              "    padding: 0;\n",
              "    width: 32px;\n",
              "  }\n",
              "\n",
              "  .colab-df-quickchart:hover {\n",
              "    background-color: var(--hover-bg-color);\n",
              "    box-shadow: 0 1px 2px rgba(60, 64, 67, 0.3), 0 1px 3px 1px rgba(60, 64, 67, 0.15);\n",
              "    fill: var(--button-hover-fill-color);\n",
              "  }\n",
              "\n",
              "  .colab-df-quickchart-complete:disabled,\n",
              "  .colab-df-quickchart-complete:disabled:hover {\n",
              "    background-color: var(--disabled-bg-color);\n",
              "    fill: var(--disabled-fill-color);\n",
              "    box-shadow: none;\n",
              "  }\n",
              "\n",
              "  .colab-df-spinner {\n",
              "    border: 2px solid var(--fill-color);\n",
              "    border-color: transparent;\n",
              "    border-bottom-color: var(--fill-color);\n",
              "    animation:\n",
              "      spin 1s steps(1) infinite;\n",
              "  }\n",
              "\n",
              "  @keyframes spin {\n",
              "    0% {\n",
              "      border-color: transparent;\n",
              "      border-bottom-color: var(--fill-color);\n",
              "      border-left-color: var(--fill-color);\n",
              "    }\n",
              "    20% {\n",
              "      border-color: transparent;\n",
              "      border-left-color: var(--fill-color);\n",
              "      border-top-color: var(--fill-color);\n",
              "    }\n",
              "    30% {\n",
              "      border-color: transparent;\n",
              "      border-left-color: var(--fill-color);\n",
              "      border-top-color: var(--fill-color);\n",
              "      border-right-color: var(--fill-color);\n",
              "    }\n",
              "    40% {\n",
              "      border-color: transparent;\n",
              "      border-right-color: var(--fill-color);\n",
              "      border-top-color: var(--fill-color);\n",
              "    }\n",
              "    60% {\n",
              "      border-color: transparent;\n",
              "      border-right-color: var(--fill-color);\n",
              "    }\n",
              "    80% {\n",
              "      border-color: transparent;\n",
              "      border-right-color: var(--fill-color);\n",
              "      border-bottom-color: var(--fill-color);\n",
              "    }\n",
              "    90% {\n",
              "      border-color: transparent;\n",
              "      border-bottom-color: var(--fill-color);\n",
              "    }\n",
              "  }\n",
              "</style>\n",
              "\n",
              "  <script>\n",
              "    async function quickchart(key) {\n",
              "      const quickchartButtonEl =\n",
              "        document.querySelector('#' + key + ' button');\n",
              "      quickchartButtonEl.disabled = true;  // To prevent multiple clicks.\n",
              "      quickchartButtonEl.classList.add('colab-df-spinner');\n",
              "      try {\n",
              "        const charts = await google.colab.kernel.invokeFunction(\n",
              "            'suggestCharts', [key], {});\n",
              "      } catch (error) {\n",
              "        console.error('Error during call to suggestCharts:', error);\n",
              "      }\n",
              "      quickchartButtonEl.classList.remove('colab-df-spinner');\n",
              "      quickchartButtonEl.classList.add('colab-df-quickchart-complete');\n",
              "    }\n",
              "    (() => {\n",
              "      let quickchartButtonEl =\n",
              "        document.querySelector('#df-66d9924a-900e-458d-ae70-4b4261ee3701 button');\n",
              "      quickchartButtonEl.style.display =\n",
              "        google.colab.kernel.accessAllowed ? 'block' : 'none';\n",
              "    })();\n",
              "  </script>\n",
              "</div>\n",
              "    </div>\n",
              "  </div>\n"
            ]
          },
          "metadata": {},
          "execution_count": 9
        }
      ]
    },
    {
      "cell_type": "markdown",
      "source": [
        "### Visualização de resultados\n",
        "Gera um gráfico de barras para representar o desempenho de resultado da heurística aplicada ante a cada instância proposta:"
      ],
      "metadata": {
        "id": "tQFtmHAKlgjS"
      }
    },
    {
      "cell_type": "code",
      "source": [
        "def plot_interactive_result(results):\n",
        "\n",
        "    fig = px.bar(\n",
        "        df,\n",
        "        x=\"Arquivo\",\n",
        "        y=\"Resultado\",\n",
        "        labels={\"Arquivo\": \"Arquivo\", \"Resultado\": \"Resultado\"},\n",
        "        title=\"Desempenho do Algoritmo do Vizinho Mais Próximo\",\n",
        "        color=\"Arquivo\"\n",
        "    )\n",
        "\n",
        "    fig.update_xaxes(tickangle=45)\n",
        "    fig.show()\n",
        "plot_interactive_result(df)"
      ],
      "metadata": {
        "colab": {
          "base_uri": "https://localhost:8080/",
          "height": 542
        },
        "id": "VNmSeBubl4ia",
        "outputId": "b81aef56-efbb-4999-cea3-19c449c70d16"
      },
      "execution_count": 10,
      "outputs": [
        {
          "output_type": "display_data",
          "data": {
            "text/html": [
              "<html>\n",
              "<head><meta charset=\"utf-8\" /></head>\n",
              "<body>\n",
              "    <div>            <script src=\"https://cdnjs.cloudflare.com/ajax/libs/mathjax/2.7.5/MathJax.js?config=TeX-AMS-MML_SVG\"></script><script type=\"text/javascript\">if (window.MathJax && window.MathJax.Hub && window.MathJax.Hub.Config) {window.MathJax.Hub.Config({SVG: {font: \"STIX-Web\"}});}</script>                <script type=\"text/javascript\">window.PlotlyConfig = {MathJaxConfig: 'local'};</script>\n",
              "        <script charset=\"utf-8\" src=\"https://cdn.plot.ly/plotly-2.24.1.min.js\"></script>                <div id=\"36c4bbbb-13b0-4527-9f8c-7656e3dec947\" class=\"plotly-graph-div\" style=\"height:525px; width:100%;\"></div>            <script type=\"text/javascript\">                                    window.PLOTLYENV=window.PLOTLYENV || {};                                    if (document.getElementById(\"36c4bbbb-13b0-4527-9f8c-7656e3dec947\")) {                    Plotly.newPlot(                        \"36c4bbbb-13b0-4527-9f8c-7656e3dec947\",                        [{\"alignmentgroup\":\"True\",\"hovertemplate\":\"Arquivo=%{x}\\u003cbr\\u003eResultado=%{y}\\u003cextra\\u003e\\u003c\\u002fextra\\u003e\",\"legendgroup\":\"kroD100.tsp\",\"marker\":{\"color\":\"#636efa\",\"pattern\":{\"shape\":\"\"}},\"name\":\"kroD100.tsp\",\"offsetgroup\":\"kroD100.tsp\",\"orientation\":\"v\",\"showlegend\":true,\"textposition\":\"auto\",\"x\":[\"kroD100.tsp\"],\"xaxis\":\"x\",\"y\":[8571],\"yaxis\":\"y\",\"type\":\"bar\"},{\"alignmentgroup\":\"True\",\"hovertemplate\":\"Arquivo=%{x}\\u003cbr\\u003eResultado=%{y}\\u003cextra\\u003e\\u003c\\u002fextra\\u003e\",\"legendgroup\":\"kroB200.tsp\",\"marker\":{\"color\":\"#EF553B\",\"pattern\":{\"shape\":\"\"}},\"name\":\"kroB200.tsp\",\"offsetgroup\":\"kroB200.tsp\",\"orientation\":\"v\",\"showlegend\":true,\"textposition\":\"auto\",\"x\":[\"kroB200.tsp\"],\"xaxis\":\"x\",\"y\":[12871],\"yaxis\":\"y\",\"type\":\"bar\"},{\"alignmentgroup\":\"True\",\"hovertemplate\":\"Arquivo=%{x}\\u003cbr\\u003eResultado=%{y}\\u003cextra\\u003e\\u003c\\u002fextra\\u003e\",\"legendgroup\":\"kroE100.tsp\",\"marker\":{\"color\":\"#00cc96\",\"pattern\":{\"shape\":\"\"}},\"name\":\"kroE100.tsp\",\"offsetgroup\":\"kroE100.tsp\",\"orientation\":\"v\",\"showlegend\":true,\"textposition\":\"auto\",\"x\":[\"kroE100.tsp\"],\"xaxis\":\"x\",\"y\":[15350],\"yaxis\":\"y\",\"type\":\"bar\"},{\"alignmentgroup\":\"True\",\"hovertemplate\":\"Arquivo=%{x}\\u003cbr\\u003eResultado=%{y}\\u003cextra\\u003e\\u003c\\u002fextra\\u003e\",\"legendgroup\":\"pr152.tsp\",\"marker\":{\"color\":\"#ab63fa\",\"pattern\":{\"shape\":\"\"}},\"name\":\"pr152.tsp\",\"offsetgroup\":\"pr152.tsp\",\"orientation\":\"v\",\"showlegend\":true,\"textposition\":\"auto\",\"x\":[\"pr152.tsp\"],\"xaxis\":\"x\",\"y\":[42154],\"yaxis\":\"y\",\"type\":\"bar\"},{\"alignmentgroup\":\"True\",\"hovertemplate\":\"Arquivo=%{x}\\u003cbr\\u003eResultado=%{y}\\u003cextra\\u003e\\u003c\\u002fextra\\u003e\",\"legendgroup\":\"pr144.tsp\",\"marker\":{\"color\":\"#FFA15A\",\"pattern\":{\"shape\":\"\"}},\"name\":\"pr144.tsp\",\"offsetgroup\":\"pr144.tsp\",\"orientation\":\"v\",\"showlegend\":true,\"textposition\":\"auto\",\"x\":[\"pr144.tsp\"],\"xaxis\":\"x\",\"y\":[52316],\"yaxis\":\"y\",\"type\":\"bar\"},{\"alignmentgroup\":\"True\",\"hovertemplate\":\"Arquivo=%{x}\\u003cbr\\u003eResultado=%{y}\\u003cextra\\u003e\\u003c\\u002fextra\\u003e\",\"legendgroup\":\"pr124.tsp\",\"marker\":{\"color\":\"#19d3f3\",\"pattern\":{\"shape\":\"\"}},\"name\":\"pr124.tsp\",\"offsetgroup\":\"pr124.tsp\",\"orientation\":\"v\",\"showlegend\":true,\"textposition\":\"auto\",\"x\":[\"pr124.tsp\"],\"xaxis\":\"x\",\"y\":[63474],\"yaxis\":\"y\",\"type\":\"bar\"},{\"alignmentgroup\":\"True\",\"hovertemplate\":\"Arquivo=%{x}\\u003cbr\\u003eResultado=%{y}\\u003cextra\\u003e\\u003c\\u002fextra\\u003e\",\"legendgroup\":\"kroA150.tsp\",\"marker\":{\"color\":\"#FF6692\",\"pattern\":{\"shape\":\"\"}},\"name\":\"kroA150.tsp\",\"offsetgroup\":\"kroA150.tsp\",\"orientation\":\"v\",\"showlegend\":true,\"textposition\":\"auto\",\"x\":[\"kroA150.tsp\"],\"xaxis\":\"x\",\"y\":[68919],\"yaxis\":\"y\",\"type\":\"bar\"},{\"alignmentgroup\":\"True\",\"hovertemplate\":\"Arquivo=%{x}\\u003cbr\\u003eResultado=%{y}\\u003cextra\\u003e\\u003c\\u002fextra\\u003e\",\"legendgroup\":\"kroB150.tsp\",\"marker\":{\"color\":\"#B6E880\",\"pattern\":{\"shape\":\"\"}},\"name\":\"kroB150.tsp\",\"offsetgroup\":\"kroB150.tsp\",\"orientation\":\"v\",\"showlegend\":true,\"textposition\":\"auto\",\"x\":[\"kroB150.tsp\"],\"xaxis\":\"x\",\"y\":[67327],\"yaxis\":\"y\",\"type\":\"bar\"},{\"alignmentgroup\":\"True\",\"hovertemplate\":\"Arquivo=%{x}\\u003cbr\\u003eResultado=%{y}\\u003cextra\\u003e\\u003c\\u002fextra\\u003e\",\"legendgroup\":\"kroB100.tsp\",\"marker\":{\"color\":\"#FF97FF\",\"pattern\":{\"shape\":\"\"}},\"name\":\"kroB100.tsp\",\"offsetgroup\":\"kroB100.tsp\",\"orientation\":\"v\",\"showlegend\":true,\"textposition\":\"auto\",\"x\":[\"kroB100.tsp\"],\"xaxis\":\"x\",\"y\":[67327],\"yaxis\":\"y\",\"type\":\"bar\"},{\"alignmentgroup\":\"True\",\"hovertemplate\":\"Arquivo=%{x}\\u003cbr\\u003eResultado=%{y}\\u003cextra\\u003e\\u003c\\u002fextra\\u003e\",\"legendgroup\":\"pr136.tsp\",\"marker\":{\"color\":\"#FECB52\",\"pattern\":{\"shape\":\"\"}},\"name\":\"pr136.tsp\",\"offsetgroup\":\"pr136.tsp\",\"orientation\":\"v\",\"showlegend\":true,\"textposition\":\"auto\",\"x\":[\"pr136.tsp\"],\"xaxis\":\"x\",\"y\":[86714],\"yaxis\":\"y\",\"type\":\"bar\"},{\"alignmentgroup\":\"True\",\"hovertemplate\":\"Arquivo=%{x}\\u003cbr\\u003eResultado=%{y}\\u003cextra\\u003e\\u003c\\u002fextra\\u003e\",\"legendgroup\":\"kroA200.tsp\",\"marker\":{\"color\":\"#636efa\",\"pattern\":{\"shape\":\"\"}},\"name\":\"kroA200.tsp\",\"offsetgroup\":\"kroA200.tsp\",\"orientation\":\"v\",\"showlegend\":true,\"textposition\":\"auto\",\"x\":[\"kroA200.tsp\"],\"xaxis\":\"x\",\"y\":[86714],\"yaxis\":\"y\",\"type\":\"bar\"},{\"alignmentgroup\":\"True\",\"hovertemplate\":\"Arquivo=%{x}\\u003cbr\\u003eResultado=%{y}\\u003cextra\\u003e\\u003c\\u002fextra\\u003e\",\"legendgroup\":\"rat99.tsp\",\"marker\":{\"color\":\"#EF553B\",\"pattern\":{\"shape\":\"\"}},\"name\":\"rat99.tsp\",\"offsetgroup\":\"rat99.tsp\",\"orientation\":\"v\",\"showlegend\":true,\"textposition\":\"auto\",\"x\":[\"rat99.tsp\"],\"xaxis\":\"x\",\"y\":[87012],\"yaxis\":\"y\",\"type\":\"bar\"},{\"alignmentgroup\":\"True\",\"hovertemplate\":\"Arquivo=%{x}\\u003cbr\\u003eResultado=%{y}\\u003cextra\\u003e\\u003c\\u002fextra\\u003e\",\"legendgroup\":\"pr107.tsp\",\"marker\":{\"color\":\"#00cc96\",\"pattern\":{\"shape\":\"\"}},\"name\":\"pr107.tsp\",\"offsetgroup\":\"pr107.tsp\",\"orientation\":\"v\",\"showlegend\":true,\"textposition\":\"auto\",\"x\":[\"pr107.tsp\"],\"xaxis\":\"x\",\"y\":[98124],\"yaxis\":\"y\",\"type\":\"bar\"},{\"alignmentgroup\":\"True\",\"hovertemplate\":\"Arquivo=%{x}\\u003cbr\\u003eResultado=%{y}\\u003cextra\\u003e\\u003c\\u002fextra\\u003e\",\"legendgroup\":\"lin105.tsp\",\"marker\":{\"color\":\"#ab63fa\",\"pattern\":{\"shape\":\"\"}},\"name\":\"lin105.tsp\",\"offsetgroup\":\"lin105.tsp\",\"orientation\":\"v\",\"showlegend\":true,\"textposition\":\"auto\",\"x\":[\"lin105.tsp\"],\"xaxis\":\"x\",\"y\":[95527],\"yaxis\":\"y\",\"type\":\"bar\"},{\"alignmentgroup\":\"True\",\"hovertemplate\":\"Arquivo=%{x}\\u003cbr\\u003eResultado=%{y}\\u003cextra\\u003e\\u003c\\u002fextra\\u003e\",\"legendgroup\":\"rat195.tsp\",\"marker\":{\"color\":\"#FFA15A\",\"pattern\":{\"shape\":\"\"}},\"name\":\"rat195.tsp\",\"offsetgroup\":\"rat195.tsp\",\"orientation\":\"v\",\"showlegend\":true,\"textposition\":\"auto\",\"x\":[\"rat195.tsp\"],\"xaxis\":\"x\",\"y\":[100371],\"yaxis\":\"y\",\"type\":\"bar\"},{\"alignmentgroup\":\"True\",\"hovertemplate\":\"Arquivo=%{x}\\u003cbr\\u003eResultado=%{y}\\u003cextra\\u003e\\u003c\\u002fextra\\u003e\",\"legendgroup\":\"pr76.tsp\",\"marker\":{\"color\":\"#19d3f3\",\"pattern\":{\"shape\":\"\"}},\"name\":\"pr76.tsp\",\"offsetgroup\":\"pr76.tsp\",\"orientation\":\"v\",\"showlegend\":true,\"textposition\":\"auto\",\"x\":[\"pr76.tsp\"],\"xaxis\":\"x\",\"y\":[118935],\"yaxis\":\"y\",\"type\":\"bar\"},{\"alignmentgroup\":\"True\",\"hovertemplate\":\"Arquivo=%{x}\\u003cbr\\u003eResultado=%{y}\\u003cextra\\u003e\\u003c\\u002fextra\\u003e\",\"legendgroup\":\"st70.tsp\",\"marker\":{\"color\":\"#FF6692\",\"pattern\":{\"shape\":\"\"}},\"name\":\"st70.tsp\",\"offsetgroup\":\"st70.tsp\",\"orientation\":\"v\",\"showlegend\":true,\"textposition\":\"auto\",\"x\":[\"st70.tsp\"],\"xaxis\":\"x\",\"y\":[119367],\"yaxis\":\"y\",\"type\":\"bar\"},{\"alignmentgroup\":\"True\",\"hovertemplate\":\"Arquivo=%{x}\\u003cbr\\u003eResultado=%{y}\\u003cextra\\u003e\\u003c\\u002fextra\\u003e\",\"legendgroup\":\"kroC100.tsp\",\"marker\":{\"color\":\"#B6E880\",\"pattern\":{\"shape\":\"\"}},\"name\":\"kroC100.tsp\",\"offsetgroup\":\"kroC100.tsp\",\"orientation\":\"v\",\"showlegend\":true,\"textposition\":\"auto\",\"x\":[\"kroC100.tsp\"],\"xaxis\":\"x\",\"y\":[119367],\"yaxis\":\"y\",\"type\":\"bar\"},{\"alignmentgroup\":\"True\",\"hovertemplate\":\"Arquivo=%{x}\\u003cbr\\u003eResultado=%{y}\\u003cextra\\u003e\\u003c\\u002fextra\\u003e\",\"legendgroup\":\"berlin52.tsp\",\"marker\":{\"color\":\"#FF97FF\",\"pattern\":{\"shape\":\"\"}},\"name\":\"berlin52.tsp\",\"offsetgroup\":\"berlin52.tsp\",\"orientation\":\"v\",\"showlegend\":true,\"textposition\":\"auto\",\"x\":[\"berlin52.tsp\"],\"xaxis\":\"x\",\"y\":[117742],\"yaxis\":\"y\",\"type\":\"bar\"},{\"alignmentgroup\":\"True\",\"hovertemplate\":\"Arquivo=%{x}\\u003cbr\\u003eResultado=%{y}\\u003cextra\\u003e\\u003c\\u002fextra\\u003e\",\"legendgroup\":\"kroA100.tsp\",\"marker\":{\"color\":\"#FECB52\",\"pattern\":{\"shape\":\"\"}},\"name\":\"kroA100.tsp\",\"offsetgroup\":\"kroA100.tsp\",\"orientation\":\"v\",\"showlegend\":true,\"textposition\":\"auto\",\"x\":[\"kroA100.tsp\"],\"xaxis\":\"x\",\"y\":[117742],\"yaxis\":\"y\",\"type\":\"bar\"}],                        {\"template\":{\"data\":{\"histogram2dcontour\":[{\"type\":\"histogram2dcontour\",\"colorbar\":{\"outlinewidth\":0,\"ticks\":\"\"},\"colorscale\":[[0.0,\"#0d0887\"],[0.1111111111111111,\"#46039f\"],[0.2222222222222222,\"#7201a8\"],[0.3333333333333333,\"#9c179e\"],[0.4444444444444444,\"#bd3786\"],[0.5555555555555556,\"#d8576b\"],[0.6666666666666666,\"#ed7953\"],[0.7777777777777778,\"#fb9f3a\"],[0.8888888888888888,\"#fdca26\"],[1.0,\"#f0f921\"]]}],\"choropleth\":[{\"type\":\"choropleth\",\"colorbar\":{\"outlinewidth\":0,\"ticks\":\"\"}}],\"histogram2d\":[{\"type\":\"histogram2d\",\"colorbar\":{\"outlinewidth\":0,\"ticks\":\"\"},\"colorscale\":[[0.0,\"#0d0887\"],[0.1111111111111111,\"#46039f\"],[0.2222222222222222,\"#7201a8\"],[0.3333333333333333,\"#9c179e\"],[0.4444444444444444,\"#bd3786\"],[0.5555555555555556,\"#d8576b\"],[0.6666666666666666,\"#ed7953\"],[0.7777777777777778,\"#fb9f3a\"],[0.8888888888888888,\"#fdca26\"],[1.0,\"#f0f921\"]]}],\"heatmap\":[{\"type\":\"heatmap\",\"colorbar\":{\"outlinewidth\":0,\"ticks\":\"\"},\"colorscale\":[[0.0,\"#0d0887\"],[0.1111111111111111,\"#46039f\"],[0.2222222222222222,\"#7201a8\"],[0.3333333333333333,\"#9c179e\"],[0.4444444444444444,\"#bd3786\"],[0.5555555555555556,\"#d8576b\"],[0.6666666666666666,\"#ed7953\"],[0.7777777777777778,\"#fb9f3a\"],[0.8888888888888888,\"#fdca26\"],[1.0,\"#f0f921\"]]}],\"heatmapgl\":[{\"type\":\"heatmapgl\",\"colorbar\":{\"outlinewidth\":0,\"ticks\":\"\"},\"colorscale\":[[0.0,\"#0d0887\"],[0.1111111111111111,\"#46039f\"],[0.2222222222222222,\"#7201a8\"],[0.3333333333333333,\"#9c179e\"],[0.4444444444444444,\"#bd3786\"],[0.5555555555555556,\"#d8576b\"],[0.6666666666666666,\"#ed7953\"],[0.7777777777777778,\"#fb9f3a\"],[0.8888888888888888,\"#fdca26\"],[1.0,\"#f0f921\"]]}],\"contourcarpet\":[{\"type\":\"contourcarpet\",\"colorbar\":{\"outlinewidth\":0,\"ticks\":\"\"}}],\"contour\":[{\"type\":\"contour\",\"colorbar\":{\"outlinewidth\":0,\"ticks\":\"\"},\"colorscale\":[[0.0,\"#0d0887\"],[0.1111111111111111,\"#46039f\"],[0.2222222222222222,\"#7201a8\"],[0.3333333333333333,\"#9c179e\"],[0.4444444444444444,\"#bd3786\"],[0.5555555555555556,\"#d8576b\"],[0.6666666666666666,\"#ed7953\"],[0.7777777777777778,\"#fb9f3a\"],[0.8888888888888888,\"#fdca26\"],[1.0,\"#f0f921\"]]}],\"surface\":[{\"type\":\"surface\",\"colorbar\":{\"outlinewidth\":0,\"ticks\":\"\"},\"colorscale\":[[0.0,\"#0d0887\"],[0.1111111111111111,\"#46039f\"],[0.2222222222222222,\"#7201a8\"],[0.3333333333333333,\"#9c179e\"],[0.4444444444444444,\"#bd3786\"],[0.5555555555555556,\"#d8576b\"],[0.6666666666666666,\"#ed7953\"],[0.7777777777777778,\"#fb9f3a\"],[0.8888888888888888,\"#fdca26\"],[1.0,\"#f0f921\"]]}],\"mesh3d\":[{\"type\":\"mesh3d\",\"colorbar\":{\"outlinewidth\":0,\"ticks\":\"\"}}],\"scatter\":[{\"fillpattern\":{\"fillmode\":\"overlay\",\"size\":10,\"solidity\":0.2},\"type\":\"scatter\"}],\"parcoords\":[{\"type\":\"parcoords\",\"line\":{\"colorbar\":{\"outlinewidth\":0,\"ticks\":\"\"}}}],\"scatterpolargl\":[{\"type\":\"scatterpolargl\",\"marker\":{\"colorbar\":{\"outlinewidth\":0,\"ticks\":\"\"}}}],\"bar\":[{\"error_x\":{\"color\":\"#2a3f5f\"},\"error_y\":{\"color\":\"#2a3f5f\"},\"marker\":{\"line\":{\"color\":\"#E5ECF6\",\"width\":0.5},\"pattern\":{\"fillmode\":\"overlay\",\"size\":10,\"solidity\":0.2}},\"type\":\"bar\"}],\"scattergeo\":[{\"type\":\"scattergeo\",\"marker\":{\"colorbar\":{\"outlinewidth\":0,\"ticks\":\"\"}}}],\"scatterpolar\":[{\"type\":\"scatterpolar\",\"marker\":{\"colorbar\":{\"outlinewidth\":0,\"ticks\":\"\"}}}],\"histogram\":[{\"marker\":{\"pattern\":{\"fillmode\":\"overlay\",\"size\":10,\"solidity\":0.2}},\"type\":\"histogram\"}],\"scattergl\":[{\"type\":\"scattergl\",\"marker\":{\"colorbar\":{\"outlinewidth\":0,\"ticks\":\"\"}}}],\"scatter3d\":[{\"type\":\"scatter3d\",\"line\":{\"colorbar\":{\"outlinewidth\":0,\"ticks\":\"\"}},\"marker\":{\"colorbar\":{\"outlinewidth\":0,\"ticks\":\"\"}}}],\"scattermapbox\":[{\"type\":\"scattermapbox\",\"marker\":{\"colorbar\":{\"outlinewidth\":0,\"ticks\":\"\"}}}],\"scatterternary\":[{\"type\":\"scatterternary\",\"marker\":{\"colorbar\":{\"outlinewidth\":0,\"ticks\":\"\"}}}],\"scattercarpet\":[{\"type\":\"scattercarpet\",\"marker\":{\"colorbar\":{\"outlinewidth\":0,\"ticks\":\"\"}}}],\"carpet\":[{\"aaxis\":{\"endlinecolor\":\"#2a3f5f\",\"gridcolor\":\"white\",\"linecolor\":\"white\",\"minorgridcolor\":\"white\",\"startlinecolor\":\"#2a3f5f\"},\"baxis\":{\"endlinecolor\":\"#2a3f5f\",\"gridcolor\":\"white\",\"linecolor\":\"white\",\"minorgridcolor\":\"white\",\"startlinecolor\":\"#2a3f5f\"},\"type\":\"carpet\"}],\"table\":[{\"cells\":{\"fill\":{\"color\":\"#EBF0F8\"},\"line\":{\"color\":\"white\"}},\"header\":{\"fill\":{\"color\":\"#C8D4E3\"},\"line\":{\"color\":\"white\"}},\"type\":\"table\"}],\"barpolar\":[{\"marker\":{\"line\":{\"color\":\"#E5ECF6\",\"width\":0.5},\"pattern\":{\"fillmode\":\"overlay\",\"size\":10,\"solidity\":0.2}},\"type\":\"barpolar\"}],\"pie\":[{\"automargin\":true,\"type\":\"pie\"}]},\"layout\":{\"autotypenumbers\":\"strict\",\"colorway\":[\"#636efa\",\"#EF553B\",\"#00cc96\",\"#ab63fa\",\"#FFA15A\",\"#19d3f3\",\"#FF6692\",\"#B6E880\",\"#FF97FF\",\"#FECB52\"],\"font\":{\"color\":\"#2a3f5f\"},\"hovermode\":\"closest\",\"hoverlabel\":{\"align\":\"left\"},\"paper_bgcolor\":\"white\",\"plot_bgcolor\":\"#E5ECF6\",\"polar\":{\"bgcolor\":\"#E5ECF6\",\"angularaxis\":{\"gridcolor\":\"white\",\"linecolor\":\"white\",\"ticks\":\"\"},\"radialaxis\":{\"gridcolor\":\"white\",\"linecolor\":\"white\",\"ticks\":\"\"}},\"ternary\":{\"bgcolor\":\"#E5ECF6\",\"aaxis\":{\"gridcolor\":\"white\",\"linecolor\":\"white\",\"ticks\":\"\"},\"baxis\":{\"gridcolor\":\"white\",\"linecolor\":\"white\",\"ticks\":\"\"},\"caxis\":{\"gridcolor\":\"white\",\"linecolor\":\"white\",\"ticks\":\"\"}},\"coloraxis\":{\"colorbar\":{\"outlinewidth\":0,\"ticks\":\"\"}},\"colorscale\":{\"sequential\":[[0.0,\"#0d0887\"],[0.1111111111111111,\"#46039f\"],[0.2222222222222222,\"#7201a8\"],[0.3333333333333333,\"#9c179e\"],[0.4444444444444444,\"#bd3786\"],[0.5555555555555556,\"#d8576b\"],[0.6666666666666666,\"#ed7953\"],[0.7777777777777778,\"#fb9f3a\"],[0.8888888888888888,\"#fdca26\"],[1.0,\"#f0f921\"]],\"sequentialminus\":[[0.0,\"#0d0887\"],[0.1111111111111111,\"#46039f\"],[0.2222222222222222,\"#7201a8\"],[0.3333333333333333,\"#9c179e\"],[0.4444444444444444,\"#bd3786\"],[0.5555555555555556,\"#d8576b\"],[0.6666666666666666,\"#ed7953\"],[0.7777777777777778,\"#fb9f3a\"],[0.8888888888888888,\"#fdca26\"],[1.0,\"#f0f921\"]],\"diverging\":[[0,\"#8e0152\"],[0.1,\"#c51b7d\"],[0.2,\"#de77ae\"],[0.3,\"#f1b6da\"],[0.4,\"#fde0ef\"],[0.5,\"#f7f7f7\"],[0.6,\"#e6f5d0\"],[0.7,\"#b8e186\"],[0.8,\"#7fbc41\"],[0.9,\"#4d9221\"],[1,\"#276419\"]]},\"xaxis\":{\"gridcolor\":\"white\",\"linecolor\":\"white\",\"ticks\":\"\",\"title\":{\"standoff\":15},\"zerolinecolor\":\"white\",\"automargin\":true,\"zerolinewidth\":2},\"yaxis\":{\"gridcolor\":\"white\",\"linecolor\":\"white\",\"ticks\":\"\",\"title\":{\"standoff\":15},\"zerolinecolor\":\"white\",\"automargin\":true,\"zerolinewidth\":2},\"scene\":{\"xaxis\":{\"backgroundcolor\":\"#E5ECF6\",\"gridcolor\":\"white\",\"linecolor\":\"white\",\"showbackground\":true,\"ticks\":\"\",\"zerolinecolor\":\"white\",\"gridwidth\":2},\"yaxis\":{\"backgroundcolor\":\"#E5ECF6\",\"gridcolor\":\"white\",\"linecolor\":\"white\",\"showbackground\":true,\"ticks\":\"\",\"zerolinecolor\":\"white\",\"gridwidth\":2},\"zaxis\":{\"backgroundcolor\":\"#E5ECF6\",\"gridcolor\":\"white\",\"linecolor\":\"white\",\"showbackground\":true,\"ticks\":\"\",\"zerolinecolor\":\"white\",\"gridwidth\":2}},\"shapedefaults\":{\"line\":{\"color\":\"#2a3f5f\"}},\"annotationdefaults\":{\"arrowcolor\":\"#2a3f5f\",\"arrowhead\":0,\"arrowwidth\":1},\"geo\":{\"bgcolor\":\"white\",\"landcolor\":\"#E5ECF6\",\"subunitcolor\":\"white\",\"showland\":true,\"showlakes\":true,\"lakecolor\":\"white\"},\"title\":{\"x\":0.05},\"mapbox\":{\"style\":\"light\"}}},\"xaxis\":{\"anchor\":\"y\",\"domain\":[0.0,1.0],\"title\":{\"text\":\"Arquivo\"},\"categoryorder\":\"array\",\"categoryarray\":[\"kroD100.tsp\",\"kroB200.tsp\",\"kroE100.tsp\",\"pr152.tsp\",\"pr144.tsp\",\"pr124.tsp\",\"kroA150.tsp\",\"kroB150.tsp\",\"kroB100.tsp\",\"pr136.tsp\",\"kroA200.tsp\",\"rat99.tsp\",\"pr107.tsp\",\"lin105.tsp\",\"rat195.tsp\",\"pr76.tsp\",\"st70.tsp\",\"kroC100.tsp\",\"berlin52.tsp\",\"kroA100.tsp\"],\"tickangle\":45},\"yaxis\":{\"anchor\":\"x\",\"domain\":[0.0,1.0],\"title\":{\"text\":\"Resultado\"}},\"legend\":{\"title\":{\"text\":\"Arquivo\"},\"tracegroupgap\":0},\"title\":{\"text\":\"Desempenho do Algoritmo do Vizinho Mais Pr\\u00f3ximo\"},\"barmode\":\"relative\"},                        {\"responsive\": true}                    ).then(function(){\n",
              "                            \n",
              "var gd = document.getElementById('36c4bbbb-13b0-4527-9f8c-7656e3dec947');\n",
              "var x = new MutationObserver(function (mutations, observer) {{\n",
              "        var display = window.getComputedStyle(gd).display;\n",
              "        if (!display || display === 'none') {{\n",
              "            console.log([gd, 'removed!']);\n",
              "            Plotly.purge(gd);\n",
              "            observer.disconnect();\n",
              "        }}\n",
              "}});\n",
              "\n",
              "// Listen for the removal of the full notebook cells\n",
              "var notebookContainer = gd.closest('#notebook-container');\n",
              "if (notebookContainer) {{\n",
              "    x.observe(notebookContainer, {childList: true});\n",
              "}}\n",
              "\n",
              "// Listen for the clearing of the current output cell\n",
              "var outputEl = gd.closest('.output');\n",
              "if (outputEl) {{\n",
              "    x.observe(outputEl, {childList: true});\n",
              "}}\n",
              "\n",
              "                        })                };                            </script>        </div>\n",
              "</body>\n",
              "</html>"
            ]
          },
          "metadata": {}
        }
      ]
    },
    {
      "cell_type": "code",
      "source": [
        "def plot_interactive_result(df):\n",
        "    plt.figure(figsize=(12, 6))\n",
        "    plt.bar(df[\"Arquivo\"], df[\"Resultado\"])\n",
        "    plt.xlabel(\"Arquivo\")\n",
        "    plt.ylabel(\"Resultado\")\n",
        "    plt.title(\"Desempenho do Algoritmo do Vizinho Mais Próximo\")\n",
        "    plt.xticks(rotation=45)\n",
        "    plt.show()\n",
        "\n",
        "# Certifique-se de que `df` já foi definido ou passe o DataFrame como argumento da função\n",
        "plot_interactive_result(df)"
      ],
      "metadata": {
        "colab": {
          "base_uri": "https://localhost:8080/",
          "height": 621
        },
        "id": "d_6I-NOK827g",
        "outputId": "d89641eb-5442-499f-ea26-fd1ffb15d928"
      },
      "execution_count": 11,
      "outputs": [
        {
          "output_type": "display_data",
          "data": {
            "text/plain": [
              "<Figure size 1200x600 with 1 Axes>"
            ],
            "image/png": "[encoded data removed]"
          },
          "metadata": {}
        }
      ]
    }
  ]
}